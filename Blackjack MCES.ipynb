{
 "cells": [
  {
   "cell_type": "code",
   "execution_count": 1,
   "metadata": {
    "collapsed": true
   },
   "outputs": [],
   "source": [
    "import numpy as np\n",
    "import random"
   ]
  },
  {
   "cell_type": "code",
   "execution_count": 2,
   "outputs": [],
   "source": [
    "exploration_start = []\n",
    "action_space = ['hit','stick']\n",
    "value_dict, total_value, total_visits = {},{},{}\n",
    "for player_sum in range(2,22):\n",
    "    for dealer_card in range(2,12):\n",
    "        for action in action_space:\n",
    "            exploration_start.append([player_sum,dealer_card,action])\n",
    "            value_dict[player_sum,dealer_card,action] = 0\n",
    "            total_value[player_sum,dealer_card,action] = 0\n",
    "            total_visits[player_sum,dealer_card,action] = 0"
   ],
   "metadata": {
    "collapsed": false,
    "pycharm": {
     "name": "#%%\n"
    }
   }
  },
  {
   "cell_type": "code",
   "execution_count": 3,
   "outputs": [],
   "source": [
    "def draw_card():\n",
    "    card_pool = [i for i in range(2,12)] + [10, 10, 10]\n",
    "    return np.random.choice(card_pool)\n",
    "\n",
    "def dealer_operation(dealer_value):\n",
    "    if dealer_value > 21:\n",
    "        return 'blow up'\n",
    "    if dealer_value >= 18:\n",
    "        return dealer_value\n",
    "    if dealer_value < 18:\n",
    "        return dealer_operation(dealer_value + draw_card())\n",
    "\n",
    "def my_strategy(player_value,dealer_value):\n",
    "    global best_action\n",
    "    if player_value > 21:\n",
    "        return 'blow up'\n",
    "    if value_dict[player_value,dealer_value,'stick'] > value_dict[player_value,dealer_value,'hit']:\n",
    "        best_action = 'stick'\n",
    "    elif value_dict[player_value,dealer_value,'stick'] <= value_dict[player_value,dealer_value,'hit']:\n",
    "        best_action = 'hit'\n",
    "    if best_action == 'hit':\n",
    "        visited_states_action_pairs.append([player_value,dealer_value,'hit'])\n",
    "        return my_strategy(player_value + draw_card(),dealer_value)\n",
    "    elif best_action == 'stick':\n",
    "        visited_states_action_pairs.append([player_value,dealer_value,'stick'])\n",
    "        return player_value\n",
    "\n",
    "def winner(player_value,dealer_value):\n",
    "    global result\n",
    "    if player_value == 'blow up':\n",
    "        return -1\n",
    "    if dealer_value == 'blow up':\n",
    "        return 1\n",
    "    if player_value > dealer_value:\n",
    "        return 1\n",
    "    if player_value == dealer_value:\n",
    "        return 0\n",
    "    if player_value < dealer_value:\n",
    "        return -1"
   ],
   "metadata": {
    "collapsed": false,
    "pycharm": {
     "name": "#%%\n"
    }
   }
  },
  {
   "cell_type": "code",
   "execution_count": 4,
   "outputs": [
    {
     "name": "stdout",
     "output_type": "stream",
     "text": [
      "12\n"
     ]
    }
   ],
   "source": [
    "for i in range(500000):\n",
    "    start = random.choice(exploration_start)\n",
    "    #print(start)\n",
    "    visited_states_action_pairs = [start]\n",
    "    action = start[-1]\n",
    "    if action == 'hit':\n",
    "        player_value = start[0] + draw_card()\n",
    "        player_final = my_strategy(player_value,start[1])\n",
    "    elif action == 'stick':\n",
    "        player_final = start[0]\n",
    "    episode_result = winner(player_final, dealer_operation(start[1]))\n",
    "    #print(visited_states_action_pairs)\n",
    "    for i in visited_states_action_pairs:\n",
    "        total_visits[i[0],i[1],i[2]] += 1\n",
    "        total_value[i[0],i[1],i[2]] += episode_result\n",
    "        value_dict[i[0],i[1],i[2]] = round(total_value[i[0],i[1],i[2]] / total_visits[i[0],i[1],i[2]], 3)\n",
    "\n",
    "#print(value_dict)\n",
    "print(my_strategy(2,3))"
   ],
   "metadata": {
    "collapsed": false,
    "pycharm": {
     "name": "#%%\n"
    }
   }
  },
  {
   "cell_type": "code",
   "execution_count": 5,
   "outputs": [
    {
     "name": "stdout",
     "output_type": "stream",
     "text": [
      "Number of unreasonable hits at high player value:  0\n",
      "Number of unreasonable sticks at low player value:  3\n"
     ]
    }
   ],
   "source": [
    "policy_dict,unreasonable_stick_sum, unreasonable_hit_sum = {},0,0\n",
    "for player_sum in range(2,22):\n",
    "    for dealer_card in range(2,12):\n",
    "        if value_dict[player_sum,dealer_card,'hit'] > value_dict[player_sum,dealer_card,'stick']:\n",
    "            policy_dict[player_sum,dealer_card] = 'hit'\n",
    "            if player_sum >= 16:\n",
    "                unreasonable_hit_sum += 1\n",
    "        else:\n",
    "            policy_dict[player_sum,dealer_card] = 'stick'\n",
    "            if player_sum <= 10:\n",
    "                unreasonable_stick_sum += 1\n",
    "\n",
    "#print(policy_dict)\n",
    "print('Number of unreasonable hits at high player value: ',unreasonable_hit_sum)\n",
    "print('Number of unreasonable sticks at low player value: ',unreasonable_stick_sum)\n"
   ],
   "metadata": {
    "collapsed": false,
    "pycharm": {
     "name": "#%%\n"
    }
   }
  }
 ],
 "metadata": {
  "kernelspec": {
   "display_name": "Python 3",
   "language": "python",
   "name": "python3"
  },
  "language_info": {
   "codemirror_mode": {
    "name": "ipython",
    "version": 2
   },
   "file_extension": ".py",
   "mimetype": "text/x-python",
   "name": "python",
   "nbconvert_exporter": "python",
   "pygments_lexer": "ipython2",
   "version": "2.7.6"
  }
 },
 "nbformat": 4,
 "nbformat_minor": 0
}