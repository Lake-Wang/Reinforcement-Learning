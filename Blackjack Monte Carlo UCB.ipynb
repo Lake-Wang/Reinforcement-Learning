{
 "cells": [
  {
   "cell_type": "code",
   "execution_count": 46,
   "metadata": {
    "collapsed": true
   },
   "outputs": [],
   "source": [
    "import numpy as np\n",
    "import random\n",
    "import math"
   ]
  },
  {
   "cell_type": "code",
   "execution_count": 47,
   "outputs": [],
   "source": [
    "initial_state = []\n",
    "action_space = ['hit','stick']\n",
    "value_dict, total_value, total_visits = {},{},{}\n",
    "for player_sum in range(2,22):\n",
    "    for dealer_card in range(2,12):\n",
    "            initial_state.append([player_sum,dealer_card])\n",
    "            for action in action_space:\n",
    "                value_dict[player_sum,dealer_card,action] = 0\n",
    "                total_value[player_sum,dealer_card,action] = 0\n",
    "                total_visits[player_sum,dealer_card,action] = 0"
   ],
   "metadata": {
    "collapsed": false,
    "pycharm": {
     "name": "#%%\n"
    }
   }
  },
  {
   "cell_type": "code",
   "execution_count": 48,
   "outputs": [],
   "source": [
    "def draw_card():\n",
    "    card_pool = [i for i in range(2,12)] + [10, 10, 10]\n",
    "    return np.random.choice(card_pool)\n",
    "\n",
    "def dealer_operation(dealer_value):\n",
    "    if dealer_value > 21:\n",
    "        return 'blow up'\n",
    "    if dealer_value >= 18:\n",
    "        return dealer_value\n",
    "    if dealer_value < 18:\n",
    "        return dealer_operation(dealer_value + draw_card())\n",
    "\n",
    "def my_strategy(player_value,dealer_value):\n",
    "    global best_action\n",
    "    if player_value > 21:\n",
    "        return 'blow up'\n",
    "    if total_visits[player_value,dealer_value,'hit'] == 0:\n",
    "        best_action = 'hit'\n",
    "    elif total_visits[player_value,dealer_value,'stick'] == 0:\n",
    "        best_action = 'stick'\n",
    "    elif total_visits[player_value,dealer_value,'hit'] != 0 and total_visits[player_value,dealer_value,'stick'] != 0:\n",
    "        state_visits = total_visits[player_value,dealer_value,'hit'] + total_visits[player_value,dealer_value,'stick'] + 1\n",
    "        candidate_hit = value_dict[player_value,dealer_value,'hit'] + c*math.sqrt(math.log(state_visits) / total_visits[player_value,dealer_value,'hit'])\n",
    "        candidate_stick = value_dict[player_value,dealer_value,'stick'] + c*math.sqrt(math.log(state_visits) / total_visits[player_value,dealer_value,'stick'])\n",
    "        if candidate_stick > candidate_hit:\n",
    "            best_action = 'stick'\n",
    "        elif candidate_stick <= candidate_hit:\n",
    "            best_action = 'hit'\n",
    "    if best_action == 'hit':\n",
    "        visited_states_action_pairs.append([player_value,dealer_value,'hit'])\n",
    "        return my_strategy(player_value + draw_card(),dealer_value)\n",
    "    elif best_action == 'stick':\n",
    "        visited_states_action_pairs.append([player_value,dealer_value,'stick'])\n",
    "        return player_value\n",
    "\n",
    "def winner(player_value,dealer_value):\n",
    "    global result\n",
    "    if player_value == 'blow up':\n",
    "        return -1\n",
    "    if dealer_value == 'blow up':\n",
    "        return 1\n",
    "    if player_value > dealer_value:\n",
    "        return 1\n",
    "    if player_value == dealer_value:\n",
    "        return 0\n",
    "    if player_value < dealer_value:\n",
    "        return -1"
   ],
   "metadata": {
    "collapsed": false,
    "pycharm": {
     "name": "#%%\n"
    }
   }
  },
  {
   "cell_type": "code",
   "execution_count": 49,
   "outputs": [
    {
     "name": "stdout",
     "output_type": "stream",
     "text": [
      "{(2, 2, 'hit'): 291, (2, 2, 'stick'): 224, (2, 3, 'hit'): 364, (2, 3, 'stick'): 157, (2, 4, 'hit'): 513, (2, 4, 'stick'): 18, (2, 5, 'hit'): 15, (2, 5, 'stick'): 468, (2, 6, 'hit'): 363, (2, 6, 'stick'): 84, (2, 7, 'hit'): 308, (2, 7, 'stick'): 194, (2, 8, 'hit'): 389, (2, 8, 'stick'): 130, (2, 9, 'hit'): 447, (2, 9, 'stick'): 48, (2, 10, 'hit'): 428, (2, 10, 'stick'): 119, (2, 11, 'hit'): 315, (2, 11, 'stick'): 202, (3, 2, 'hit'): 407, (3, 2, 'stick'): 68, (3, 3, 'hit'): 314, (3, 3, 'stick'): 184, (3, 4, 'hit'): 286, (3, 4, 'stick'): 226, (3, 5, 'hit'): 464, (3, 5, 'stick'): 58, (3, 6, 'hit'): 318, (3, 6, 'stick'): 173, (3, 7, 'hit'): 225, (3, 7, 'stick'): 300, (3, 8, 'hit'): 453, (3, 8, 'stick'): 60, (3, 9, 'hit'): 363, (3, 9, 'stick'): 165, (3, 10, 'hit'): 444, (3, 10, 'stick'): 44, (3, 11, 'hit'): 343, (3, 11, 'stick'): 162, (4, 2, 'hit'): 133, (4, 2, 'stick'): 371, (4, 3, 'hit'): 502, (4, 3, 'stick'): 36, (4, 4, 'hit'): 559, (4, 4, 'stick'): 5, (4, 5, 'hit'): 387, (4, 5, 'stick'): 136, (4, 6, 'hit'): 280, (4, 6, 'stick'): 219, (4, 7, 'hit'): 260, (4, 7, 'stick'): 293, (4, 8, 'hit'): 510, (4, 8, 'stick'): 13, (4, 9, 'hit'): 194, (4, 9, 'stick'): 346, (4, 10, 'hit'): 245, (4, 10, 'stick'): 277, (4, 11, 'hit'): 450, (4, 11, 'stick'): 56, (5, 2, 'hit'): 548, (5, 2, 'stick'): 5, (5, 3, 'hit'): 357, (5, 3, 'stick'): 211, (5, 4, 'hit'): 38, (5, 4, 'stick'): 522, (5, 5, 'hit'): 565, (5, 5, 'stick'): 19, (5, 6, 'hit'): 527, (5, 6, 'stick'): 39, (5, 7, 'hit'): 44, (5, 7, 'stick'): 485, (5, 8, 'hit'): 531, (5, 8, 'stick'): 28, (5, 9, 'hit'): 555, (5, 9, 'stick'): 24, (5, 10, 'hit'): 91, (5, 10, 'stick'): 476, (5, 11, 'hit'): 339, (5, 11, 'stick'): 230, (6, 2, 'hit'): 160, (6, 2, 'stick'): 404, (6, 3, 'hit'): 371, (6, 3, 'stick'): 196, (6, 4, 'hit'): 542, (6, 4, 'stick'): 37, (6, 5, 'hit'): 8, (6, 5, 'stick'): 556, (6, 6, 'hit'): 421, (6, 6, 'stick'): 158, (6, 7, 'hit'): 119, (6, 7, 'stick'): 450, (6, 8, 'hit'): 539, (6, 8, 'stick'): 35, (6, 9, 'hit'): 597, (6, 9, 'stick'): 8, (6, 10, 'hit'): 436, (6, 10, 'stick'): 117, (6, 11, 'hit'): 556, (6, 11, 'stick'): 52, (7, 2, 'hit'): 264, (7, 2, 'stick'): 348, (7, 3, 'hit'): 426, (7, 3, 'stick'): 213, (7, 4, 'hit'): 445, (7, 4, 'stick'): 177, (7, 5, 'hit'): 286, (7, 5, 'stick'): 289, (7, 6, 'hit'): 497, (7, 6, 'stick'): 141, (7, 7, 'hit'): 505, (7, 7, 'stick'): 41, (7, 8, 'hit'): 623, (7, 8, 'stick'): 17, (7, 9, 'hit'): 311, (7, 9, 'stick'): 309, (7, 10, 'hit'): 325, (7, 10, 'stick'): 244, (7, 11, 'hit'): 568, (7, 11, 'stick'): 47, (8, 2, 'hit'): 595, (8, 2, 'stick'): 34, (8, 3, 'hit'): 500, (8, 3, 'stick'): 137, (8, 4, 'hit'): 535, (8, 4, 'stick'): 93, (8, 5, 'hit'): 614, (8, 5, 'stick'): 4, (8, 6, 'hit'): 421, (8, 6, 'stick'): 228, (8, 7, 'hit'): 560, (8, 7, 'stick'): 7, (8, 8, 'hit'): 683, (8, 8, 'stick'): 19, (8, 9, 'hit'): 682, (8, 9, 'stick'): 18, (8, 10, 'hit'): 299, (8, 10, 'stick'): 365, (8, 11, 'hit'): 615, (8, 11, 'stick'): 23, (9, 2, 'hit'): 580, (9, 2, 'stick'): 40, (9, 3, 'hit'): 560, (9, 3, 'stick'): 160, (9, 4, 'hit'): 434, (9, 4, 'stick'): 234, (9, 5, 'hit'): 574, (9, 5, 'stick'): 43, (9, 6, 'hit'): 517, (9, 6, 'stick'): 191, (9, 7, 'hit'): 508, (9, 7, 'stick'): 83, (9, 8, 'hit'): 678, (9, 8, 'stick'): 68, (9, 9, 'hit'): 650, (9, 9, 'stick'): 33, (9, 10, 'hit'): 680, (9, 10, 'stick'): 21, (9, 11, 'hit'): 430, (9, 11, 'stick'): 259, (10, 2, 'hit'): 627, (10, 2, 'stick'): 9, (10, 3, 'hit'): 687, (10, 3, 'stick'): 21, (10, 4, 'hit'): 727, (10, 4, 'stick'): 17, (10, 5, 'hit'): 614, (10, 5, 'stick'): 104, (10, 6, 'hit'): 735, (10, 6, 'stick'): 18, (10, 7, 'hit'): 681, (10, 7, 'stick'): 3, (10, 8, 'hit'): 759, (10, 8, 'stick'): 9, (10, 9, 'hit'): 736, (10, 9, 'stick'): 19, (10, 10, 'hit'): 651, (10, 10, 'stick'): 6, (10, 11, 'hit'): 701, (10, 11, 'stick'): 48, (11, 2, 'hit'): 582, (11, 2, 'stick'): 118, (11, 3, 'hit'): 697, (11, 3, 'stick'): 20, (11, 4, 'hit'): 706, (11, 4, 'stick'): 39, (11, 5, 'hit'): 710, (11, 5, 'stick'): 19, (11, 6, 'hit'): 727, (11, 6, 'stick'): 71, (11, 7, 'hit'): 687, (11, 7, 'stick'): 10, (11, 8, 'hit'): 811, (11, 8, 'stick'): 24, (11, 9, 'hit'): 782, (11, 9, 'stick'): 17, (11, 10, 'hit'): 730, (11, 10, 'stick'): 8, (11, 11, 'hit'): 773, (11, 11, 'stick'): 13, (12, 2, 'hit'): 20, (12, 2, 'stick'): 827, (12, 3, 'hit'): 9, (12, 3, 'stick'): 911, (12, 4, 'hit'): 79, (12, 4, 'stick'): 829, (12, 5, 'hit'): 5, (12, 5, 'stick'): 803, (12, 6, 'hit'): 15, (12, 6, 'stick'): 903, (12, 7, 'hit'): 37, (12, 7, 'stick'): 788, (12, 8, 'hit'): 565, (12, 8, 'stick'): 403, (12, 9, 'hit'): 350, (12, 9, 'stick'): 660, (12, 10, 'hit'): 70, (12, 10, 'stick'): 801, (12, 11, 'hit'): 140, (12, 11, 'stick'): 759, (13, 2, 'hit'): 12, (13, 2, 'stick'): 895, (13, 3, 'hit'): 32, (13, 3, 'stick'): 806, (13, 4, 'hit'): 26, (13, 4, 'stick'): 888, (13, 5, 'hit'): 14, (13, 5, 'stick'): 930, (13, 6, 'hit'): 28, (13, 6, 'stick'): 858, (13, 7, 'hit'): 14, (13, 7, 'stick'): 838, (13, 8, 'hit'): 624, (13, 8, 'stick'): 428, (13, 9, 'hit'): 173, (13, 9, 'stick'): 833, (13, 10, 'hit'): 321, (13, 10, 'stick'): 583, (13, 11, 'hit'): 17, (13, 11, 'stick'): 953, (14, 2, 'hit'): 25, (14, 2, 'stick'): 816, (14, 3, 'hit'): 10, (14, 3, 'stick'): 917, (14, 4, 'hit'): 25, (14, 4, 'stick'): 967, (14, 5, 'hit'): 5, (14, 5, 'stick'): 938, (14, 6, 'hit'): 33, (14, 6, 'stick'): 856, (14, 7, 'hit'): 48, (14, 7, 'stick'): 719, (14, 8, 'hit'): 238, (14, 8, 'stick'): 847, (14, 9, 'hit'): 31, (14, 9, 'stick'): 950, (14, 10, 'hit'): 155, (14, 10, 'stick'): 654, (14, 11, 'hit'): 64, (14, 11, 'stick'): 887, (15, 2, 'hit'): 6, (15, 2, 'stick'): 929, (15, 3, 'hit'): 18, (15, 3, 'stick'): 869, (15, 4, 'hit'): 51, (15, 4, 'stick'): 799, (15, 5, 'hit'): 5, (15, 5, 'stick'): 944, (15, 6, 'hit'): 13, (15, 6, 'stick'): 958, (15, 7, 'hit'): 17, (15, 7, 'stick'): 748, (15, 8, 'hit'): 164, (15, 8, 'stick'): 899, (15, 9, 'hit'): 106, (15, 9, 'stick'): 927, (15, 10, 'hit'): 88, (15, 10, 'stick'): 733, (15, 11, 'hit'): 19, (15, 11, 'stick'): 932, (16, 2, 'hit'): 36, (16, 2, 'stick'): 736, (16, 3, 'hit'): 14, (16, 3, 'stick'): 853, (16, 4, 'hit'): 28, (16, 4, 'stick'): 904, (16, 5, 'hit'): 17, (16, 5, 'stick'): 748, (16, 6, 'hit'): 15, (16, 6, 'stick'): 865, (16, 7, 'hit'): 5, (16, 7, 'stick'): 739, (16, 8, 'hit'): 78, (16, 8, 'stick'): 986, (16, 9, 'hit'): 78, (16, 9, 'stick'): 941, (16, 10, 'hit'): 57, (16, 10, 'stick'): 842, (16, 11, 'hit'): 11, (16, 11, 'stick'): 933, (17, 2, 'hit'): 49, (17, 2, 'stick'): 710, (17, 3, 'hit'): 6, (17, 3, 'stick'): 863, (17, 4, 'hit'): 5, (17, 4, 'stick'): 903, (17, 5, 'hit'): 22, (17, 5, 'stick'): 760, (17, 6, 'hit'): 10, (17, 6, 'stick'): 876, (17, 7, 'hit'): 5, (17, 7, 'stick'): 911, (17, 8, 'hit'): 42, (17, 8, 'stick'): 1042, (17, 9, 'hit'): 65, (17, 9, 'stick'): 823, (17, 10, 'hit'): 26, (17, 10, 'stick'): 868, (17, 11, 'hit'): 31, (17, 11, 'stick'): 965, (18, 2, 'hit'): 10, (18, 2, 'stick'): 876, (18, 3, 'hit'): 6, (18, 3, 'stick'): 838, (18, 4, 'hit'): 7, (18, 4, 'stick'): 826, (18, 5, 'hit'): 4, (18, 5, 'stick'): 820, (18, 6, 'hit'): 4, (18, 6, 'stick'): 814, (18, 7, 'hit'): 4, (18, 7, 'stick'): 861, (18, 8, 'hit'): 6, (18, 8, 'stick'): 1061, (18, 9, 'hit'): 32, (18, 9, 'stick'): 892, (18, 10, 'hit'): 31, (18, 10, 'stick'): 790, (18, 11, 'hit'): 11, (18, 11, 'stick'): 880, (19, 2, 'hit'): 3, (19, 2, 'stick'): 843, (19, 3, 'hit'): 3, (19, 3, 'stick'): 765, (19, 4, 'hit'): 3, (19, 4, 'stick'): 788, (19, 5, 'hit'): 4, (19, 5, 'stick'): 786, (19, 6, 'hit'): 3, (19, 6, 'stick'): 822, (19, 7, 'hit'): 6, (19, 7, 'stick'): 776, (19, 8, 'hit'): 3, (19, 8, 'stick'): 1034, (19, 9, 'hit'): 7, (19, 9, 'stick'): 888, (19, 10, 'hit'): 11, (19, 10, 'stick'): 875, (19, 11, 'hit'): 10, (19, 11, 'stick'): 807, (20, 2, 'hit'): 3, (20, 2, 'stick'): 810, (20, 3, 'hit'): 3, (20, 3, 'stick'): 790, (20, 4, 'hit'): 3, (20, 4, 'stick'): 776, (20, 5, 'hit'): 3, (20, 5, 'stick'): 776, (20, 6, 'hit'): 3, (20, 6, 'stick'): 796, (20, 7, 'hit'): 3, (20, 7, 'stick'): 817, (20, 8, 'hit'): 3, (20, 8, 'stick'): 967, (20, 9, 'hit'): 3, (20, 9, 'stick'): 886, (20, 10, 'hit'): 4, (20, 10, 'stick'): 842, (20, 11, 'hit'): 5, (20, 11, 'stick'): 820, (21, 2, 'hit'): 2, (21, 2, 'stick'): 735, (21, 3, 'hit'): 2, (21, 3, 'stick'): 798, (21, 4, 'hit'): 2, (21, 4, 'stick'): 780, (21, 5, 'hit'): 2, (21, 5, 'stick'): 766, (21, 6, 'hit'): 2, (21, 6, 'stick'): 766, (21, 7, 'hit'): 2, (21, 7, 'stick'): 770, (21, 8, 'hit'): 2, (21, 8, 'stick'): 979, (21, 9, 'hit'): 2, (21, 9, 'stick'): 886, (21, 10, 'hit'): 2, (21, 10, 'stick'): 861, (21, 11, 'hit'): 3, (21, 11, 'stick'): 792}\n",
      "{(2, 2, 'hit'): 0.089, (2, 2, 'stick'): 0.009, (2, 3, 'hit'): 0.082, (2, 3, 'stick'): -0.006, (2, 4, 'hit'): 0.057, (2, 4, 'stick'): -0.444, (2, 5, 'hit'): -0.6, (2, 5, 'stick'): 0.158, (2, 6, 'hit'): 0.212, (2, 6, 'stick'): 0.048, (2, 7, 'hit'): 0.214, (2, 7, 'stick'): 0.175, (2, 8, 'hit'): -0.139, (2, 8, 'stick'): -0.231, (2, 9, 'hit'): -0.233, (2, 9, 'stick'): -0.5, (2, 10, 'hit'): -0.315, (2, 10, 'stick'): -0.429, (2, 11, 'hit'): -0.248, (2, 11, 'stick'): -0.347, (3, 2, 'hit'): 0.047, (3, 2, 'stick'): -0.147, (3, 3, 'hit'): 0.159, (3, 3, 'stick'): 0.098, (3, 4, 'hit'): 0.15, (3, 4, 'stick'): 0.053, (3, 5, 'hit'): 0.213, (3, 5, 'stick'): -0.138, (3, 6, 'hit'): 0.195, (3, 6, 'stick'): 0.191, (3, 7, 'hit'): 0.236, (3, 7, 'stick'): 0.053, (3, 8, 'hit'): -0.139, (3, 8, 'stick'): -0.367, (3, 9, 'hit'): -0.295, (3, 9, 'stick'): -0.37, (3, 10, 'hit'): -0.234, (3, 10, 'stick'): -0.545, (3, 11, 'hit'): -0.303, (3, 11, 'stick'): -0.383, (4, 2, 'hit'): 0.068, (4, 2, 'stick'): 0.03, (4, 3, 'hit'): 0.064, (4, 3, 'stick'): -0.278, (4, 4, 'hit'): 0.15, (4, 4, 'stick'): -1.0, (4, 5, 'hit'): 0.171, (4, 5, 'stick'): 0.074, (4, 6, 'hit'): 0.129, (4, 6, 'stick'): 0.142, (4, 7, 'hit'): 0.112, (4, 7, 'stick'): 0.126, (4, 8, 'hit'): -0.212, (4, 8, 'stick'): -0.846, (4, 9, 'hit'): -0.186, (4, 9, 'stick'): -0.202, (4, 10, 'hit'): -0.29, (4, 10, 'stick'): -0.278, (4, 11, 'hit'): -0.153, (4, 11, 'stick'): -0.429, (5, 2, 'hit'): 0.077, (5, 2, 'stick'): -1.0, (5, 3, 'hit'): 0.092, (5, 3, 'stick'): 0.052, (5, 4, 'hit'): -0.211, (5, 4, 'stick'): 0.142, (5, 5, 'hit'): 0.138, (5, 5, 'stick'): -0.368, (5, 6, 'hit'): 0.148, (5, 6, 'stick'): -0.179, (5, 7, 'hit'): -0.045, (5, 7, 'stick'): 0.184, (5, 8, 'hit'): -0.183, (5, 8, 'stick'): -0.571, (5, 9, 'hit'): -0.249, (5, 9, 'stick'): -0.667, (5, 10, 'hit'): -0.495, (5, 10, 'stick'): -0.336, (5, 11, 'hit'): -0.363, (5, 11, 'stick'): -0.374, (6, 2, 'hit'): -0.037, (6, 2, 'stick'): 0.05, (6, 3, 'hit'): 0.132, (6, 3, 'stick'): 0.082, (6, 4, 'hit'): 0.092, (6, 4, 'stick'): -0.243, (6, 5, 'hit'): -0.75, (6, 5, 'stick'): 0.086, (6, 6, 'hit'): 0.181, (6, 6, 'stick'): 0.165, (6, 7, 'hit'): 0.042, (6, 7, 'stick'): 0.16, (6, 8, 'hit'): -0.18, (6, 8, 'stick'): -0.543, (6, 9, 'hit'): -0.168, (6, 9, 'stick'): -1.0, (6, 10, 'hit'): -0.317, (6, 10, 'stick'): -0.436, (6, 11, 'hit'): -0.196, (6, 11, 'stick'): -0.462, (7, 2, 'hit'): 0.057, (7, 2, 'stick'): 0.034, (7, 3, 'hit'): 0.087, (7, 3, 'stick'): 0.07, (7, 4, 'hit'): 0.097, (7, 4, 'stick'): 0.062, (7, 5, 'hit'): 0.112, (7, 5, 'stick'): 0.114, (7, 6, 'hit'): 0.167, (7, 6, 'stick'): 0.035, (7, 7, 'hit'): 0.236, (7, 7, 'stick'): -0.073, (7, 8, 'hit'): -0.095, (7, 8, 'stick'): -0.647, (7, 9, 'hit'): -0.36, (7, 9, 'stick'): -0.424, (7, 10, 'hit'): -0.298, (7, 10, 'stick'): -0.287, (7, 11, 'hit'): -0.259, (7, 11, 'stick'): -0.532, (8, 2, 'hit'): 0.217, (8, 2, 'stick'): -0.118, (8, 3, 'hit'): 0.194, (8, 3, 'stick'): 0.08, (8, 4, 'hit'): 0.196, (8, 4, 'stick'): 0.011, (8, 5, 'hit'): 0.251, (8, 5, 'stick'): -1.0, (8, 6, 'hit'): 0.221, (8, 6, 'stick'): 0.211, (8, 7, 'hit'): 0.209, (8, 7, 'stick'): -0.714, (8, 8, 'hit'): -0.057, (8, 8, 'stick'): -0.579, (8, 9, 'hit'): -0.123, (8, 9, 'stick'): -0.667, (8, 10, 'hit'): -0.358, (8, 10, 'stick'): -0.364, (8, 11, 'hit'): -0.296, (8, 11, 'stick'): -0.739, (9, 2, 'hit'): 0.183, (9, 2, 'stick'): -0.15, (9, 3, 'hit'): 0.271, (9, 3, 'stick'): 0.125, (9, 4, 'hit'): 0.214, (9, 4, 'stick'): 0.051, (9, 5, 'hit'): 0.289, (9, 5, 'stick'): -0.023, (9, 6, 'hit'): 0.226, (9, 6, 'stick'): 0.131, (9, 7, 'hit'): 0.285, (9, 7, 'stick'): 0.108, (9, 8, 'hit'): 0.027, (9, 8, 'stick'): -0.235, (9, 9, 'hit'): 0.02, (9, 9, 'stick'): -0.515, (9, 10, 'hit'): -0.207, (9, 10, 'stick'): -0.714, (9, 11, 'hit'): -0.249, (9, 11, 'stick'): -0.282, (10, 2, 'hit'): 0.278, (10, 2, 'stick'): -0.556, (10, 3, 'hit'): 0.339, (10, 3, 'stick'): -0.143, (10, 4, 'hit'): 0.3, (10, 4, 'stick'): -0.294, (10, 5, 'hit'): 0.29, (10, 5, 'stick'): 0.019, (10, 6, 'hit'): 0.401, (10, 6, 'stick'): -0.111, (10, 7, 'hit'): 0.391, (10, 7, 'stick'): -1.0, (10, 8, 'hit'): 0.278, (10, 8, 'stick'): -0.556, (10, 9, 'hit'): 0.163, (10, 9, 'stick'): -0.368, (10, 10, 'hit'): -0.011, (10, 10, 'stick'): -1.0, (10, 11, 'hit'): -0.001, (10, 11, 'stick'): -0.292, (11, 2, 'hit'): 0.318, (11, 2, 'stick'): 0.169, (11, 3, 'hit'): 0.281, (11, 3, 'stick'): -0.3, (11, 4, 'hit'): 0.299, (11, 4, 'stick'): -0.026, (11, 5, 'hit'): 0.277, (11, 5, 'stick'): -0.263, (11, 6, 'hit'): 0.268, (11, 6, 'stick'): 0.042, (11, 7, 'hit'): 0.364, (11, 7, 'stick'): -0.4, (11, 8, 'hit'): 0.196, (11, 8, 'stick'): -0.25, (11, 9, 'hit'): 0.171, (11, 9, 'stick'): -0.412, (11, 10, 'hit'): 0.075, (11, 10, 'stick'): -0.75, (11, 11, 'hit'): -0.041, (11, 11, 'stick'): -0.692, (12, 2, 'hit'): -0.35, (12, 2, 'stick'): -0.004, (12, 3, 'hit'): -0.778, (12, 3, 'stick'): 0.014, (12, 4, 'hit'): -0.241, (12, 4, 'stick'): -0.016, (12, 5, 'hit'): -1.0, (12, 5, 'stick'): 0.083, (12, 6, 'hit'): -0.467, (12, 6, 'stick'): 0.158, (12, 7, 'hit'): -0.216, (12, 7, 'stick'): 0.145, (12, 8, 'hit'): -0.296, (12, 8, 'stick'): -0.305, (12, 9, 'hit'): -0.346, (12, 9, 'stick'): -0.336, (12, 10, 'hit'): -0.586, (12, 10, 'stick'): -0.356, (12, 11, 'hit'): -0.421, (12, 11, 'stick'): -0.294, (13, 2, 'hit'): -0.667, (13, 2, 'stick'): 0.008, (13, 3, 'hit'): -0.312, (13, 3, 'stick'): 0.074, (13, 4, 'hit'): -0.154, (13, 4, 'stick'): 0.097, (13, 5, 'hit'): -0.571, (13, 5, 'stick'): 0.077, (13, 6, 'hit'): -0.321, (13, 6, 'stick'): 0.11, (13, 7, 'hit'): -0.5, (13, 7, 'stick'): 0.115, (13, 8, 'hit'): -0.293, (13, 8, 'stick'): -0.318, (13, 9, 'hit'): -0.445, (13, 9, 'stick'): -0.323, (13, 10, 'hit'): -0.411, (13, 10, 'stick'): -0.362, (13, 11, 'hit'): -0.882, (13, 11, 'stick'): -0.307, (14, 2, 'hit'): -0.44, (14, 2, 'stick'): 0.002, (14, 3, 'hit'): -0.7, (14, 3, 'stick'): 0.047, (14, 4, 'hit'): -0.44, (14, 4, 'stick'): 0.04, (14, 5, 'hit'): -1.0, (14, 5, 'stick'): 0.092, (14, 6, 'hit'): -0.333, (14, 6, 'stick'): 0.058, (14, 7, 'hit'): -0.333, (14, 7, 'stick'): 0.09, (14, 8, 'hit'): -0.42, (14, 8, 'stick'): -0.336, (14, 9, 'hit'): -0.71, (14, 9, 'stick'): -0.318, (14, 10, 'hit'): -0.542, (14, 10, 'stick'): -0.413, (14, 11, 'hit'): -0.562, (14, 11, 'stick'): -0.303, (15, 2, 'hit'): -1.0, (15, 2, 'stick'): 0.061, (15, 3, 'hit'): -0.5, (15, 3, 'stick'): 0.07, (15, 4, 'hit'): -0.392, (15, 4, 'stick'): 0.091, (15, 5, 'hit'): -1.0, (15, 5, 'stick'): 0.119, (15, 6, 'hit'): -0.538, (15, 6, 'stick'): 0.161, (15, 7, 'hit'): -0.412, (15, 7, 'stick'): 0.144, (15, 8, 'hit'): -0.421, (15, 8, 'stick'): -0.29, (15, 9, 'hit'): -0.557, (15, 9, 'stick'): -0.381, (15, 10, 'hit'): -0.557, (15, 10, 'stick'): -0.367, (15, 11, 'hit'): -0.842, (15, 11, 'stick'): -0.294, (16, 2, 'hit'): -0.306, (16, 2, 'stick'): 0.046, (16, 3, 'hit'): -0.786, (16, 3, 'stick'): -0.001, (16, 4, 'hit'): -0.536, (16, 4, 'stick'): 0.06, (16, 5, 'hit'): -0.412, (16, 5, 'stick'): 0.174, (16, 6, 'hit'): -0.467, (16, 6, 'stick'): 0.17, (16, 7, 'hit'): -1.0, (16, 7, 'stick'): 0.153, (16, 8, 'hit'): -0.513, (16, 8, 'stick'): -0.294, (16, 9, 'hit'): -0.513, (16, 9, 'stick'): -0.271, (16, 10, 'hit'): -0.667, (16, 10, 'stick'): -0.406, (16, 11, 'hit'): -1.0, (16, 11, 'stick'): -0.29, (17, 2, 'hit'): -0.531, (17, 2, 'stick'): -0.02, (17, 3, 'hit'): -1.0, (17, 3, 'stick'): 0.059, (17, 4, 'hit'): -1.0, (17, 4, 'stick'): 0.13, (17, 5, 'hit'): -0.409, (17, 5, 'stick'): 0.089, (17, 6, 'hit'): -0.6, (17, 6, 'stick'): 0.155, (17, 7, 'hit'): -1.0, (17, 7, 'stick'): 0.172, (17, 8, 'hit'): -0.619, (17, 8, 'stick'): -0.278, (17, 9, 'hit'): -0.585, (17, 9, 'stick'): -0.337, (17, 10, 'hit'): -0.769, (17, 10, 'stick'): -0.336, (17, 11, 'hit'): -0.71, (17, 11, 'stick'): -0.291, (18, 2, 'hit'): -0.6, (18, 2, 'stick'): 0.184, (18, 3, 'hit'): -0.833, (18, 3, 'stick'): 0.179, (18, 4, 'hit'): -0.714, (18, 4, 'stick'): 0.208, (18, 5, 'hit'): -1.0, (18, 5, 'stick'): 0.244, (18, 6, 'hit'): -1.0, (18, 6, 'stick'): 0.26, (18, 7, 'hit'): -1.0, (18, 7, 'stick'): 0.271, (18, 8, 'hit'): -1.0, (18, 8, 'stick'): 0.101, (18, 9, 'hit'): -0.625, (18, 9, 'stick'): -0.226, (18, 10, 'hit'): -0.677, (18, 10, 'stick'): -0.277, (18, 11, 'hit'): -1.0, (18, 11, 'stick'): -0.284, (19, 2, 'hit'): -1.0, (19, 2, 'stick'): 0.422, (19, 3, 'hit'): -1.0, (19, 3, 'stick'): 0.46, (19, 4, 'hit'): -1.0, (19, 4, 'stick'): 0.42, (19, 5, 'hit'): -1.0, (19, 5, 'stick'): 0.397, (19, 6, 'hit'): -1.0, (19, 6, 'stick'): 0.428, (19, 7, 'hit'): -0.667, (19, 7, 'stick'): 0.463, (19, 8, 'hit'): -1.0, (19, 8, 'stick'): 0.561, (19, 9, 'hit'): -0.714, (19, 9, 'stick'): 0.271, (19, 10, 'hit'): -0.818, (19, 10, 'stick'): -0.111, (19, 11, 'hit'): -0.8, (19, 11, 'stick'): -0.061, (20, 2, 'hit'): -1.0, (20, 2, 'stick'): 0.667, (20, 3, 'hit'): -1.0, (20, 3, 'stick'): 0.641, (20, 4, 'hit'): -1.0, (20, 4, 'stick'): 0.635, (20, 5, 'hit'): -1.0, (20, 5, 'stick'): 0.666, (20, 6, 'hit'): -1.0, (20, 6, 'stick'): 0.702, (20, 7, 'hit'): -1.0, (20, 7, 'stick'): 0.692, (20, 8, 'hit'): -1.0, (20, 8, 'stick'): 0.763, (20, 9, 'hit'): -1.0, (20, 9, 'stick'): 0.746, (20, 10, 'hit'): -1.0, (20, 10, 'stick'): 0.381, (20, 11, 'hit'): -1.0, (20, 11, 'stick'): 0.19, (21, 2, 'hit'): -1.0, (21, 2, 'stick'): 0.891, (21, 3, 'hit'): -1.0, (21, 3, 'stick'): 0.878, (21, 4, 'hit'): -1.0, (21, 4, 'stick'): 0.897, (21, 5, 'hit'): -1.0, (21, 5, 'stick'): 0.911, (21, 6, 'hit'): -1.0, (21, 6, 'stick'): 0.896, (21, 7, 'hit'): -1.0, (21, 7, 'stick'): 0.908, (21, 8, 'hit'): -1.0, (21, 8, 'stick'): 0.916, (21, 9, 'hit'): -1.0, (21, 9, 'stick'): 0.93, (21, 10, 'hit'): -1.0, (21, 10, 'stick'): 0.895, (21, 11, 'hit'): -1.0, (21, 11, 'stick'): 0.667}\n",
      "12\n"
     ]
    }
   ],
   "source": [
    "c = 1\n",
    "for i in range(100000):\n",
    "    visited_states_action_pairs = []\n",
    "    start = random.choice(initial_state)\n",
    "    player_final = my_strategy(start[0],start[1])\n",
    "    episode_result = winner(player_final, dealer_operation(start[1]))\n",
    "    #print(visited_states_action_pairs)\n",
    "    for i in visited_states_action_pairs:\n",
    "        total_value[i[0],i[1],i[2]] += episode_result\n",
    "        total_visits[i[0],i[1],i[2]] += 1\n",
    "        value_dict[i[0],i[1],i[2]] = round(total_value[i[0],i[1],i[2]] / total_visits[i[0],i[1],i[2]], 3)\n",
    "\n",
    "print(total_visits)\n",
    "print(value_dict)\n",
    "print(my_strategy(2,3))"
   ],
   "metadata": {
    "collapsed": false,
    "pycharm": {
     "name": "#%%\n"
    }
   }
  },
  {
   "cell_type": "code",
   "execution_count": 50,
   "outputs": [
    {
     "name": "stdout",
     "output_type": "stream",
     "text": [
      "{(2, 2): 'hit', (2, 3): 'hit', (2, 4): 'hit', (2, 5): 'stick', (2, 6): 'hit', (2, 7): 'hit', (2, 8): 'hit', (2, 9): 'hit', (2, 10): 'hit', (2, 11): 'hit', (3, 2): 'hit', (3, 3): 'hit', (3, 4): 'hit', (3, 5): 'hit', (3, 6): 'hit', (3, 7): 'hit', (3, 8): 'hit', (3, 9): 'hit', (3, 10): 'hit', (3, 11): 'hit', (4, 2): 'hit', (4, 3): 'hit', (4, 4): 'hit', (4, 5): 'hit', (4, 6): 'stick', (4, 7): 'stick', (4, 8): 'hit', (4, 9): 'hit', (4, 10): 'stick', (4, 11): 'hit', (5, 2): 'hit', (5, 3): 'hit', (5, 4): 'stick', (5, 5): 'hit', (5, 6): 'hit', (5, 7): 'stick', (5, 8): 'hit', (5, 9): 'hit', (5, 10): 'stick', (5, 11): 'hit', (6, 2): 'stick', (6, 3): 'hit', (6, 4): 'hit', (6, 5): 'stick', (6, 6): 'hit', (6, 7): 'stick', (6, 8): 'hit', (6, 9): 'hit', (6, 10): 'hit', (6, 11): 'hit', (7, 2): 'hit', (7, 3): 'hit', (7, 4): 'hit', (7, 5): 'stick', (7, 6): 'hit', (7, 7): 'hit', (7, 8): 'hit', (7, 9): 'hit', (7, 10): 'stick', (7, 11): 'hit', (8, 2): 'hit', (8, 3): 'hit', (8, 4): 'hit', (8, 5): 'hit', (8, 6): 'hit', (8, 7): 'hit', (8, 8): 'hit', (8, 9): 'hit', (8, 10): 'hit', (8, 11): 'hit', (9, 2): 'hit', (9, 3): 'hit', (9, 4): 'hit', (9, 5): 'hit', (9, 6): 'hit', (9, 7): 'hit', (9, 8): 'hit', (9, 9): 'hit', (9, 10): 'hit', (9, 11): 'hit', (10, 2): 'hit', (10, 3): 'hit', (10, 4): 'hit', (10, 5): 'hit', (10, 6): 'hit', (10, 7): 'hit', (10, 8): 'hit', (10, 9): 'hit', (10, 10): 'hit', (10, 11): 'hit', (11, 2): 'hit', (11, 3): 'hit', (11, 4): 'hit', (11, 5): 'hit', (11, 6): 'hit', (11, 7): 'hit', (11, 8): 'hit', (11, 9): 'hit', (11, 10): 'hit', (11, 11): 'hit', (12, 2): 'stick', (12, 3): 'stick', (12, 4): 'stick', (12, 5): 'stick', (12, 6): 'stick', (12, 7): 'stick', (12, 8): 'hit', (12, 9): 'stick', (12, 10): 'stick', (12, 11): 'stick', (13, 2): 'stick', (13, 3): 'stick', (13, 4): 'stick', (13, 5): 'stick', (13, 6): 'stick', (13, 7): 'stick', (13, 8): 'hit', (13, 9): 'stick', (13, 10): 'stick', (13, 11): 'stick', (14, 2): 'stick', (14, 3): 'stick', (14, 4): 'stick', (14, 5): 'stick', (14, 6): 'stick', (14, 7): 'stick', (14, 8): 'stick', (14, 9): 'stick', (14, 10): 'stick', (14, 11): 'stick', (15, 2): 'stick', (15, 3): 'stick', (15, 4): 'stick', (15, 5): 'stick', (15, 6): 'stick', (15, 7): 'stick', (15, 8): 'stick', (15, 9): 'stick', (15, 10): 'stick', (15, 11): 'stick', (16, 2): 'stick', (16, 3): 'stick', (16, 4): 'stick', (16, 5): 'stick', (16, 6): 'stick', (16, 7): 'stick', (16, 8): 'stick', (16, 9): 'stick', (16, 10): 'stick', (16, 11): 'stick', (17, 2): 'stick', (17, 3): 'stick', (17, 4): 'stick', (17, 5): 'stick', (17, 6): 'stick', (17, 7): 'stick', (17, 8): 'stick', (17, 9): 'stick', (17, 10): 'stick', (17, 11): 'stick', (18, 2): 'stick', (18, 3): 'stick', (18, 4): 'stick', (18, 5): 'stick', (18, 6): 'stick', (18, 7): 'stick', (18, 8): 'stick', (18, 9): 'stick', (18, 10): 'stick', (18, 11): 'stick', (19, 2): 'stick', (19, 3): 'stick', (19, 4): 'stick', (19, 5): 'stick', (19, 6): 'stick', (19, 7): 'stick', (19, 8): 'stick', (19, 9): 'stick', (19, 10): 'stick', (19, 11): 'stick', (20, 2): 'stick', (20, 3): 'stick', (20, 4): 'stick', (20, 5): 'stick', (20, 6): 'stick', (20, 7): 'stick', (20, 8): 'stick', (20, 9): 'stick', (20, 10): 'stick', (20, 11): 'stick', (21, 2): 'stick', (21, 3): 'stick', (21, 4): 'stick', (21, 5): 'stick', (21, 6): 'stick', (21, 7): 'stick', (21, 8): 'stick', (21, 9): 'stick', (21, 10): 'stick', (21, 11): 'stick'}\n",
      "Number of unreasonable hits at high player value:  0\n",
      "Number of unreasonable sticks at low player value:  12\n"
     ]
    }
   ],
   "source": [
    "policy_dict,unreasonable_stick_sum, unreasonable_hit_sum = {},0,0\n",
    "for player_sum in range(2,22):\n",
    "    for dealer_card in range(2,12):\n",
    "        if value_dict[player_sum,dealer_card,'hit'] > value_dict[player_sum,dealer_card,'stick']:\n",
    "            policy_dict[player_sum,dealer_card] = 'hit'\n",
    "            if player_sum >= 16:\n",
    "                unreasonable_hit_sum += 1\n",
    "        else:\n",
    "            policy_dict[player_sum,dealer_card] = 'stick'\n",
    "            if player_sum <= 10:\n",
    "                unreasonable_stick_sum += 1\n",
    "\n",
    "print(policy_dict)\n",
    "print('Number of unreasonable hits at high player value: ',unreasonable_hit_sum)\n",
    "print('Number of unreasonable sticks at low player value: ',unreasonable_stick_sum)\n",
    "\n"
   ],
   "metadata": {
    "collapsed": false,
    "pycharm": {
     "name": "#%%\n"
    }
   }
  }
 ],
 "metadata": {
  "kernelspec": {
   "display_name": "Python 3",
   "language": "python",
   "name": "python3"
  },
  "language_info": {
   "codemirror_mode": {
    "name": "ipython",
    "version": 2
   },
   "file_extension": ".py",
   "mimetype": "text/x-python",
   "name": "python",
   "nbconvert_exporter": "python",
   "pygments_lexer": "ipython2",
   "version": "2.7.6"
  }
 },
 "nbformat": 4,
 "nbformat_minor": 0
}